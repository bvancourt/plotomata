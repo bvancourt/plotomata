{
 "cells": [
  {
   "cell_type": "markdown",
   "id": "7f07391f-3b84-4873-9d18-77aaa00f7d64",
   "metadata": {},
   "source": [
    "# Plotomata Usage Demonstration"
   ]
  },
  {
   "cell_type": "code",
   "execution_count": null,
   "id": "43a2a35c-624d-4d40-9c09-34a5195ce4e3",
   "metadata": {},
   "outputs": [],
   "source": [
    "import os\n",
    "import sys\n",
    "import numpy as np\n",
    "import pandas as pd\n",
    "\n",
    "# need to import plotomata form parent directory\n",
    "sys.path.insert(\n",
    "    0, \n",
    "    os.path.split(os.getcwd())[0]\n",
    ")\n",
    "import plotomata\n",
    "\n",
    "# for debugging\n",
    "import importlib\n",
    "\n",
    "import matplotlib\n",
    "print(matplotlib.get_backend())"
   ]
  },
  {
   "cell_type": "code",
   "execution_count": null,
   "id": "1689902b-47e9-4eea-b765-e6d975b3f03b",
   "metadata": {},
   "outputs": [],
   "source": [
    "# load some test data\n",
    "test_data_1 = pd.read_excel(\n",
    "    os.path.join(os.path.split(os.getcwd())[0], \"test_data\", \"test_data_1.xlsx\")\n",
    ")\n",
    "test_data_1.head()"
   ]
  },
  {
   "cell_type": "markdown",
   "id": "1b4a4fbb-0df4-42c0-b6a0-9c3f947f1f76",
   "metadata": {},
   "source": [
    "## Scatter Plot Examples\n",
    "\n",
    "### Size legend\n",
    "scatter_plot() allows passing an arbitrary function that will map values of the \"size\" data to marker areas, and this is reflected in the marker size legend (left), which finds a specified number of round number \"sizes\" representing the variety of marker areas found on the plot.\n",
    "\n",
    "### \"pull_labels_from_data\" option\n",
    "If pull_labels_from_data == True, column names from Pandas DataFram and Series will be interpretes as axis/colorbar/legend labels.\n",
    "\n",
    "### \"categorical\" mode:\n",
    "colors and display names corresponding to \"categories\" found in the color data list can be partially specified, with remaining values following default behavior (display whatever is in the color data in the legend using default color palette)."
   ]
  },
  {
   "cell_type": "code",
   "execution_count": null,
   "id": "da4b9867-860c-4684-b5c3-a61bc9cfbfff",
   "metadata": {},
   "outputs": [],
   "source": [
    "# Scatter plot with size and color legends\n",
    "importlib.reload(plotomata)\n",
    "plotomata.legacy_scatter_plot(\n",
    "    test_data_1[\"Floats Y\"],\n",
    "    test_data_1[\"Floats X\"],\n",
    "    test_data_1[\"Strings C\"],\n",
    "    size=test_data_1[\"Ints S\"],\n",
    "    size_to_area_func=lambda s: np.log(s+1),\n",
    "    title=\"Scatter Plot\",\n",
    "    color_palette={\n",
    "        \"category 1\" : (0, 0, 0, 1), # black\n",
    "        \"category 3\" : (1, 0, 0, 1), # red\n",
    "    },\n",
    "    disp_names={\n",
    "        \"category 2\" : \"automatic\",\n",
    "        \"category 3\" : \"Red\",\n",
    "    },\n",
    "    pull_labels_from_data=True,\n",
    "    hide_spines = [\"top\", \"right\"],\n",
    ")"
   ]
  },
  {
   "cell_type": "markdown",
   "id": "2780018b-bdb6-464b-af3d-ccf2e4f3c323",
   "metadata": {},
   "source": [
    "### pd.DataFrame interpreted as X, Y, and C\n",
    "For convenience, a single data from can be passed for the X and Y positions and color data (columns must be in that order).\n",
    "\n",
    "### \"color_map\" mode\n",
    "For \"color_map\" mode, the third argument/column will be used to color points using a matplotlib colormap."
   ]
  },
  {
   "cell_type": "code",
   "execution_count": null,
   "id": "2bb807d7-db9c-4953-a4ba-5396438298d1",
   "metadata": {},
   "outputs": [],
   "source": [
    "# Scatter plot with size and colorbar\n",
    "importlib.reload(plotomata)\n",
    "plotomata.legacy_scatter_plot(\n",
    "    test_data_1, # first 3 columns are automatically interpreted as X, Y, and C\n",
    "    size=10/(2+np.log(test_data_1[\"Ints S\"])),\n",
    "    mode=\"color_map\",\n",
    "    cmap_norm=(10**-1, 10**5, \"log\"), # (minimum, maximum, type)\n",
    "    pull_labels_from_data=True,\n",
    "    aspect_ratio = 1, # x and y axes are scaled equally\n",
    "    axes_dimensions = (1.5, 2), # (width, height) in inches of the axes box\n",
    "    dpi=300, # pixels per inch; default value of 600 is often excessive.\n",
    "    include_size_legend=False,\n",
    ")"
   ]
  },
  {
   "cell_type": "markdown",
   "id": "f42697d4-2587-415c-9dcd-26e90d0a8270",
   "metadata": {},
   "source": [
    "### Stacked Bar Plot\n",
    "\n",
    "The bar_plot() function uses the index and column names of a pd.DataFrame as legend columns (although it is possible to override them)."
   ]
  },
  {
   "cell_type": "code",
   "execution_count": null,
   "id": "ca3de4e0-0230-4e4b-988e-fbae5b84d6b2",
   "metadata": {},
   "outputs": [],
   "source": [
    "n_layers = 6\n",
    "bar_plot_data = test_data_1[[\"Floats X\", \"Floats Y\"]].iloc[:n_layers]\n",
    "bar_plot_data.index = test_data_1[\"Strings D\"].iloc[:n_layers]\n",
    "\n",
    "print(\"Data for bar plot:\")\n",
    "print(bar_plot_data.head())\n",
    "\n",
    "importlib.reload(plotomata)\n",
    "plotomata.legacy_bar_plot(\n",
    "    bar_plot_data,\n",
    "    dpi=300,\n",
    ")\n",
    "\n",
    "plotomata.legacy_bar_plot(\n",
    "    bar_plot_data.transpose(),\n",
    "    colors=\"tab20\", # matplotlib default colors\n",
    "    col_colors=\"nb50\", # plotomata default colors\n",
    "    dpi=300,\n",
    ")"
   ]
  },
  {
   "cell_type": "code",
   "execution_count": null,
   "id": "7c67f277-fec2-4260-b080-d44f5665a3b2",
   "metadata": {},
   "outputs": [],
   "source": []
  }
 ],
 "metadata": {
  "kernelspec": {
   "display_name": "plotomata0",
   "language": "python",
   "name": "python3"
  },
  "language_info": {
   "codemirror_mode": {
    "name": "ipython",
    "version": 3
   },
   "file_extension": ".py",
   "mimetype": "text/x-python",
   "name": "python",
   "nbconvert_exporter": "python",
   "pygments_lexer": "ipython3",
   "version": "3.12.2"
  }
 },
 "nbformat": 4,
 "nbformat_minor": 5
}
